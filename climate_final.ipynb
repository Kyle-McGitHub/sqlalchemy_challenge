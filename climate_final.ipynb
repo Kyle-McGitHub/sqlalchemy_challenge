{
 "cells": [
  {
   "cell_type": "code",
   "execution_count": 2,
   "metadata": {},
   "outputs": [],
   "source": [
    "%matplotlib inline\n",
    "from matplotlib import style\n",
    "style.use('fivethirtyeight')\n",
    "import matplotlib.pyplot as plt"
   ]
  },
  {
   "cell_type": "code",
   "execution_count": 3,
   "metadata": {},
   "outputs": [],
   "source": [
    "import numpy as np\n",
    "import pandas as pd\n",
    "import datetime as dt\n",
    "from datetime import datetime, timedelta"
   ]
  },
  {
   "cell_type": "markdown",
   "metadata": {},
   "source": [
    "# Reflect Tables into SQLAlchemy ORM"
   ]
  },
  {
   "cell_type": "code",
   "execution_count": 4,
   "metadata": {},
   "outputs": [],
   "source": [
    "# Python SQL toolkit and Object Relational Mapper\n",
    "import sqlalchemy\n",
    "from sqlalchemy.ext.automap import automap_base\n",
    "from sqlalchemy.orm import Session\n",
    "from sqlalchemy import create_engine, func, inspect"
   ]
  },
  {
   "cell_type": "code",
   "execution_count": 5,
   "metadata": {},
   "outputs": [],
   "source": [
    "# create engine to hawaii.sqlite\n",
    "engine = create_engine(\"sqlite:///Resources/hawaii.sqlite\")"
   ]
  },
  {
   "cell_type": "code",
   "execution_count": 6,
   "metadata": {},
   "outputs": [
    {
     "name": "stdout",
     "output_type": "stream",
     "text": [
      "measurement\n",
      "station\n"
     ]
    }
   ],
   "source": [
    "# Create an inspector object\n",
    "inspector = inspect(engine)\n",
    "\n",
    "# Get the list of table names\n",
    "tables = inspector.get_table_names()\n",
    "\n",
    "# Print the table names\n",
    "for table in tables:\n",
    "    print(table)\n"
   ]
  },
  {
   "cell_type": "code",
   "execution_count": 7,
   "metadata": {},
   "outputs": [],
   "source": [
    "# Reflect the tables\n",
    "Base = automap_base()\n",
    "Base.prepare(engine)\n",
    "\n",
    "# Create a session\n",
    "session = Session(engine)\n",
    "\n",
    "# Get the list of table names\n",
    "inspector = inspect(engine)\n",
    "tables = inspector.get_table_names()"
   ]
  },
  {
   "cell_type": "code",
   "execution_count": 8,
   "metadata": {},
   "outputs": [],
   "source": [
    "# Access the tables\n",
    "Station = Base.classes.station\n",
    "Measurement = Base.classes.measurement\n",
    "\n",
    "# Query all rows from the station table\n",
    "stations = session.query(Station).all()\n",
    "\n",
    "# Query all rows from the measurement table\n",
    "measurements = session.query(Measurement).all()\n",
    "\n",
    "# Convert Station data to DataFrame\n",
    "stations_df = pd.DataFrame([vars(station) for station in stations[:10]])\n",
    "\n",
    "# Convert Measurement data to DataFrame\n",
    "measurements_df = pd.DataFrame([vars(measurement) for measurement in measurements[:10]])"
   ]
  },
  {
   "cell_type": "code",
   "execution_count": 9,
   "metadata": {},
   "outputs": [
    {
     "data": {
      "text/html": [
       "<div>\n",
       "<style scoped>\n",
       "    .dataframe tbody tr th:only-of-type {\n",
       "        vertical-align: middle;\n",
       "    }\n",
       "\n",
       "    .dataframe tbody tr th {\n",
       "        vertical-align: top;\n",
       "    }\n",
       "\n",
       "    .dataframe thead th {\n",
       "        text-align: right;\n",
       "    }\n",
       "</style>\n",
       "<table border=\"1\" class=\"dataframe\">\n",
       "  <thead>\n",
       "    <tr style=\"text-align: right;\">\n",
       "      <th></th>\n",
       "      <th>_sa_instance_state</th>\n",
       "      <th>longitude</th>\n",
       "      <th>station</th>\n",
       "      <th>name</th>\n",
       "      <th>latitude</th>\n",
       "      <th>id</th>\n",
       "      <th>elevation</th>\n",
       "    </tr>\n",
       "  </thead>\n",
       "  <tbody>\n",
       "    <tr>\n",
       "      <th>0</th>\n",
       "      <td>&lt;sqlalchemy.orm.state.InstanceState object at ...</td>\n",
       "      <td>-157.81680</td>\n",
       "      <td>USC00519397</td>\n",
       "      <td>WAIKIKI 717.2, HI US</td>\n",
       "      <td>21.27160</td>\n",
       "      <td>1</td>\n",
       "      <td>3.0</td>\n",
       "    </tr>\n",
       "    <tr>\n",
       "      <th>1</th>\n",
       "      <td>&lt;sqlalchemy.orm.state.InstanceState object at ...</td>\n",
       "      <td>-157.80150</td>\n",
       "      <td>USC00513117</td>\n",
       "      <td>KANEOHE 838.1, HI US</td>\n",
       "      <td>21.42340</td>\n",
       "      <td>2</td>\n",
       "      <td>14.6</td>\n",
       "    </tr>\n",
       "    <tr>\n",
       "      <th>2</th>\n",
       "      <td>&lt;sqlalchemy.orm.state.InstanceState object at ...</td>\n",
       "      <td>-157.83740</td>\n",
       "      <td>USC00514830</td>\n",
       "      <td>KUALOA RANCH HEADQUARTERS 886.9, HI US</td>\n",
       "      <td>21.52130</td>\n",
       "      <td>3</td>\n",
       "      <td>7.0</td>\n",
       "    </tr>\n",
       "    <tr>\n",
       "      <th>3</th>\n",
       "      <td>&lt;sqlalchemy.orm.state.InstanceState object at ...</td>\n",
       "      <td>-157.97510</td>\n",
       "      <td>USC00517948</td>\n",
       "      <td>PEARL CITY, HI US</td>\n",
       "      <td>21.39340</td>\n",
       "      <td>4</td>\n",
       "      <td>11.9</td>\n",
       "    </tr>\n",
       "    <tr>\n",
       "      <th>4</th>\n",
       "      <td>&lt;sqlalchemy.orm.state.InstanceState object at ...</td>\n",
       "      <td>-158.01110</td>\n",
       "      <td>USC00518838</td>\n",
       "      <td>UPPER WAHIAWA 874.3, HI US</td>\n",
       "      <td>21.49920</td>\n",
       "      <td>5</td>\n",
       "      <td>306.6</td>\n",
       "    </tr>\n",
       "    <tr>\n",
       "      <th>5</th>\n",
       "      <td>&lt;sqlalchemy.orm.state.InstanceState object at ...</td>\n",
       "      <td>-157.71139</td>\n",
       "      <td>USC00519523</td>\n",
       "      <td>WAIMANALO EXPERIMENTAL FARM, HI US</td>\n",
       "      <td>21.33556</td>\n",
       "      <td>6</td>\n",
       "      <td>19.5</td>\n",
       "    </tr>\n",
       "    <tr>\n",
       "      <th>6</th>\n",
       "      <td>&lt;sqlalchemy.orm.state.InstanceState object at ...</td>\n",
       "      <td>-157.84889</td>\n",
       "      <td>USC00519281</td>\n",
       "      <td>WAIHEE 837.5, HI US</td>\n",
       "      <td>21.45167</td>\n",
       "      <td>7</td>\n",
       "      <td>32.9</td>\n",
       "    </tr>\n",
       "    <tr>\n",
       "      <th>7</th>\n",
       "      <td>&lt;sqlalchemy.orm.state.InstanceState object at ...</td>\n",
       "      <td>-157.99920</td>\n",
       "      <td>USC00511918</td>\n",
       "      <td>HONOLULU OBSERVATORY 702.2, HI US</td>\n",
       "      <td>21.31520</td>\n",
       "      <td>8</td>\n",
       "      <td>0.9</td>\n",
       "    </tr>\n",
       "    <tr>\n",
       "      <th>8</th>\n",
       "      <td>&lt;sqlalchemy.orm.state.InstanceState object at ...</td>\n",
       "      <td>-157.80250</td>\n",
       "      <td>USC00516128</td>\n",
       "      <td>MANOA LYON ARBO 785.2, HI US</td>\n",
       "      <td>21.33310</td>\n",
       "      <td>9</td>\n",
       "      <td>152.4</td>\n",
       "    </tr>\n",
       "  </tbody>\n",
       "</table>\n",
       "</div>"
      ],
      "text/plain": [
       "                                  _sa_instance_state  longitude      station  \\\n",
       "0  <sqlalchemy.orm.state.InstanceState object at ... -157.81680  USC00519397   \n",
       "1  <sqlalchemy.orm.state.InstanceState object at ... -157.80150  USC00513117   \n",
       "2  <sqlalchemy.orm.state.InstanceState object at ... -157.83740  USC00514830   \n",
       "3  <sqlalchemy.orm.state.InstanceState object at ... -157.97510  USC00517948   \n",
       "4  <sqlalchemy.orm.state.InstanceState object at ... -158.01110  USC00518838   \n",
       "5  <sqlalchemy.orm.state.InstanceState object at ... -157.71139  USC00519523   \n",
       "6  <sqlalchemy.orm.state.InstanceState object at ... -157.84889  USC00519281   \n",
       "7  <sqlalchemy.orm.state.InstanceState object at ... -157.99920  USC00511918   \n",
       "8  <sqlalchemy.orm.state.InstanceState object at ... -157.80250  USC00516128   \n",
       "\n",
       "                                     name  latitude  id  elevation  \n",
       "0                    WAIKIKI 717.2, HI US  21.27160   1        3.0  \n",
       "1                    KANEOHE 838.1, HI US  21.42340   2       14.6  \n",
       "2  KUALOA RANCH HEADQUARTERS 886.9, HI US  21.52130   3        7.0  \n",
       "3                       PEARL CITY, HI US  21.39340   4       11.9  \n",
       "4              UPPER WAHIAWA 874.3, HI US  21.49920   5      306.6  \n",
       "5      WAIMANALO EXPERIMENTAL FARM, HI US  21.33556   6       19.5  \n",
       "6                     WAIHEE 837.5, HI US  21.45167   7       32.9  \n",
       "7       HONOLULU OBSERVATORY 702.2, HI US  21.31520   8        0.9  \n",
       "8            MANOA LYON ARBO 785.2, HI US  21.33310   9      152.4  "
      ]
     },
     "execution_count": 9,
     "metadata": {},
     "output_type": "execute_result"
    }
   ],
   "source": [
    "# THIS ISN'T EXPLICIT IN THE ASSIGNMENT BUT IT HELPS ME UNDERSTAND WHAT I NEED TO ACCOMPLISH\n",
    "stations_df"
   ]
  },
  {
   "cell_type": "code",
   "execution_count": 10,
   "metadata": {},
   "outputs": [
    {
     "data": {
      "text/html": [
       "<div>\n",
       "<style scoped>\n",
       "    .dataframe tbody tr th:only-of-type {\n",
       "        vertical-align: middle;\n",
       "    }\n",
       "\n",
       "    .dataframe tbody tr th {\n",
       "        vertical-align: top;\n",
       "    }\n",
       "\n",
       "    .dataframe thead th {\n",
       "        text-align: right;\n",
       "    }\n",
       "</style>\n",
       "<table border=\"1\" class=\"dataframe\">\n",
       "  <thead>\n",
       "    <tr style=\"text-align: right;\">\n",
       "      <th></th>\n",
       "      <th>_sa_instance_state</th>\n",
       "      <th>tobs</th>\n",
       "      <th>date</th>\n",
       "      <th>station</th>\n",
       "      <th>prcp</th>\n",
       "      <th>id</th>\n",
       "    </tr>\n",
       "  </thead>\n",
       "  <tbody>\n",
       "    <tr>\n",
       "      <th>0</th>\n",
       "      <td>&lt;sqlalchemy.orm.state.InstanceState object at ...</td>\n",
       "      <td>65.0</td>\n",
       "      <td>2010-01-01</td>\n",
       "      <td>USC00519397</td>\n",
       "      <td>0.08</td>\n",
       "      <td>1</td>\n",
       "    </tr>\n",
       "    <tr>\n",
       "      <th>1</th>\n",
       "      <td>&lt;sqlalchemy.orm.state.InstanceState object at ...</td>\n",
       "      <td>63.0</td>\n",
       "      <td>2010-01-02</td>\n",
       "      <td>USC00519397</td>\n",
       "      <td>0.00</td>\n",
       "      <td>2</td>\n",
       "    </tr>\n",
       "    <tr>\n",
       "      <th>2</th>\n",
       "      <td>&lt;sqlalchemy.orm.state.InstanceState object at ...</td>\n",
       "      <td>74.0</td>\n",
       "      <td>2010-01-03</td>\n",
       "      <td>USC00519397</td>\n",
       "      <td>0.00</td>\n",
       "      <td>3</td>\n",
       "    </tr>\n",
       "    <tr>\n",
       "      <th>3</th>\n",
       "      <td>&lt;sqlalchemy.orm.state.InstanceState object at ...</td>\n",
       "      <td>76.0</td>\n",
       "      <td>2010-01-04</td>\n",
       "      <td>USC00519397</td>\n",
       "      <td>0.00</td>\n",
       "      <td>4</td>\n",
       "    </tr>\n",
       "    <tr>\n",
       "      <th>4</th>\n",
       "      <td>&lt;sqlalchemy.orm.state.InstanceState object at ...</td>\n",
       "      <td>73.0</td>\n",
       "      <td>2010-01-06</td>\n",
       "      <td>USC00519397</td>\n",
       "      <td>NaN</td>\n",
       "      <td>5</td>\n",
       "    </tr>\n",
       "    <tr>\n",
       "      <th>5</th>\n",
       "      <td>&lt;sqlalchemy.orm.state.InstanceState object at ...</td>\n",
       "      <td>70.0</td>\n",
       "      <td>2010-01-07</td>\n",
       "      <td>USC00519397</td>\n",
       "      <td>0.06</td>\n",
       "      <td>6</td>\n",
       "    </tr>\n",
       "    <tr>\n",
       "      <th>6</th>\n",
       "      <td>&lt;sqlalchemy.orm.state.InstanceState object at ...</td>\n",
       "      <td>64.0</td>\n",
       "      <td>2010-01-08</td>\n",
       "      <td>USC00519397</td>\n",
       "      <td>0.00</td>\n",
       "      <td>7</td>\n",
       "    </tr>\n",
       "    <tr>\n",
       "      <th>7</th>\n",
       "      <td>&lt;sqlalchemy.orm.state.InstanceState object at ...</td>\n",
       "      <td>68.0</td>\n",
       "      <td>2010-01-09</td>\n",
       "      <td>USC00519397</td>\n",
       "      <td>0.00</td>\n",
       "      <td>8</td>\n",
       "    </tr>\n",
       "    <tr>\n",
       "      <th>8</th>\n",
       "      <td>&lt;sqlalchemy.orm.state.InstanceState object at ...</td>\n",
       "      <td>73.0</td>\n",
       "      <td>2010-01-10</td>\n",
       "      <td>USC00519397</td>\n",
       "      <td>0.00</td>\n",
       "      <td>9</td>\n",
       "    </tr>\n",
       "    <tr>\n",
       "      <th>9</th>\n",
       "      <td>&lt;sqlalchemy.orm.state.InstanceState object at ...</td>\n",
       "      <td>64.0</td>\n",
       "      <td>2010-01-11</td>\n",
       "      <td>USC00519397</td>\n",
       "      <td>0.01</td>\n",
       "      <td>10</td>\n",
       "    </tr>\n",
       "  </tbody>\n",
       "</table>\n",
       "</div>"
      ],
      "text/plain": [
       "                                  _sa_instance_state  tobs        date  \\\n",
       "0  <sqlalchemy.orm.state.InstanceState object at ...  65.0  2010-01-01   \n",
       "1  <sqlalchemy.orm.state.InstanceState object at ...  63.0  2010-01-02   \n",
       "2  <sqlalchemy.orm.state.InstanceState object at ...  74.0  2010-01-03   \n",
       "3  <sqlalchemy.orm.state.InstanceState object at ...  76.0  2010-01-04   \n",
       "4  <sqlalchemy.orm.state.InstanceState object at ...  73.0  2010-01-06   \n",
       "5  <sqlalchemy.orm.state.InstanceState object at ...  70.0  2010-01-07   \n",
       "6  <sqlalchemy.orm.state.InstanceState object at ...  64.0  2010-01-08   \n",
       "7  <sqlalchemy.orm.state.InstanceState object at ...  68.0  2010-01-09   \n",
       "8  <sqlalchemy.orm.state.InstanceState object at ...  73.0  2010-01-10   \n",
       "9  <sqlalchemy.orm.state.InstanceState object at ...  64.0  2010-01-11   \n",
       "\n",
       "       station  prcp  id  \n",
       "0  USC00519397  0.08   1  \n",
       "1  USC00519397  0.00   2  \n",
       "2  USC00519397  0.00   3  \n",
       "3  USC00519397  0.00   4  \n",
       "4  USC00519397   NaN   5  \n",
       "5  USC00519397  0.06   6  \n",
       "6  USC00519397  0.00   7  \n",
       "7  USC00519397  0.00   8  \n",
       "8  USC00519397  0.00   9  \n",
       "9  USC00519397  0.01  10  "
      ]
     },
     "execution_count": 10,
     "metadata": {},
     "output_type": "execute_result"
    }
   ],
   "source": [
    "# THIS ISN'T EXPLICIT IN THE ASSIGNMENT BUT IT HELPS ME UNDERSTAND WHAT I NEED TO ACCOMPLISH\n",
    "measurements_df"
   ]
  },
  {
   "cell_type": "code",
   "execution_count": 11,
   "metadata": {},
   "outputs": [
    {
     "name": "stdout",
     "output_type": "stream",
     "text": [
      "station\n",
      "measurement\n"
     ]
    }
   ],
   "source": [
    "# View all of the classes that automap found\n",
    "classes = Base.classes\n",
    "\n",
    "for class_name in classes.keys():\n",
    "    print(class_name)\n"
   ]
  },
  {
   "cell_type": "code",
   "execution_count": 12,
   "metadata": {},
   "outputs": [],
   "source": [
    "# Save references to each table\n",
    "# ADDRESSED ABOVE BEFORE DATA FRAMES, BLOCK 5 AFTER THE SECTION HEADING"
   ]
  },
  {
   "cell_type": "code",
   "execution_count": 13,
   "metadata": {},
   "outputs": [],
   "source": [
    "# Create our session (link) from Python to the DB\n",
    "# ADDRESSED ABOVE BEFORE DATA FRAMES, BLOCK 4 AFTER THE SECTION HEADING"
   ]
  },
  {
   "cell_type": "markdown",
   "metadata": {},
   "source": [
    "# Exploratory Precipitation Analysis"
   ]
  },
  {
   "cell_type": "code",
   "execution_count": 28,
   "metadata": {},
   "outputs": [
    {
     "name": "stdout",
     "output_type": "stream",
     "text": [
      "2017-08-23\n"
     ]
    }
   ],
   "source": [
    "# Find the most recent date in the data set.\n",
    "\n",
    "most_recent_date = session.query(func.max(Measurement.date)).scalar()\n",
    "\n",
    "print(most_recent_date)"
   ]
  },
  {
   "cell_type": "code",
   "execution_count": 34,
   "metadata": {},
   "outputs": [
    {
     "data": {
      "image/png": "[encoded data removed]",
      "text/plain": [
       "<Figure size 1000x500 with 1 Axes>"
      ]
     },
     "metadata": {},
     "output_type": "display_data"
    }
   ],
   "source": [
    "# Design a query to retrieve the last 12 months of precipitation data and plot the results. \n",
    "# Starting from the most recent data point in the database.\n",
    "\n",
    "# RUNNING THIS LINE FROM ABOVE SO THAT THE CODE IN THIS BLOCK RUNS INDEPENDENTLY OF THE ONE\n",
    "# ABOVE. FOR GRADING CLARITY THAT MY CODE WORKS.\n",
    "\n",
    "most_recent_date = session.query(func.max(Measurement.date)).scalar()\n",
    "\n",
    "# Calculate the date one year ago from the most recent date\n",
    "most_recent_date = datetime.strptime(most_recent_date, '%Y-%m-%d')\n",
    "one_year_lookback = most_recent_date - timedelta(days=365)\n",
    "\n",
    "# Query the last 12 months of precipitation data\n",
    "last_12_months = session.query(Measurement.date, Measurement.prcp).filter(Measurement.date >= one_year_lookback).all()\n",
    "\n",
    "# Filter out None, DOESN'T APPEAR NECESSARY\n",
    "last_12_months = [(date, prcp) for date, prcp in last_12_months if date is not None and prcp is not None]\n",
    "\n",
    "# Convert to DataFrame\n",
    "last_12_months_df = pd.DataFrame(last_12_months, columns=['date', 'prcp'])\n",
    "\n",
    "# Convert the date to datetime\n",
    "last_12_months_df['date'] = pd.to_datetime(last_12_months_df['date'])\n",
    "\n",
    "# Set date as index\n",
    "last_12_months_df.set_index('date', inplace=True)\n",
    "\n",
    "# Bar chart\n",
    "plt.figure(figsize=(10, 5))\n",
    "plt.bar(last_12_months_df.index, last_12_months_df['prcp'], label='Precipitation', color='blue', width=2)\n",
    "plt.xlabel('Date')\n",
    "plt.ylabel('Precipitation')\n",
    "plt.xticks(rotation=45)\n",
    "plt.legend()\n",
    "plt.grid(True)\n",
    "plt.tight_layout()\n",
    "plt.show()\n"
   ]
  },
  {
   "cell_type": "code",
   "execution_count": 35,
   "metadata": {},
   "outputs": [
    {
     "data": {
      "text/html": [
       "<div>\n",
       "<style scoped>\n",
       "    .dataframe tbody tr th:only-of-type {\n",
       "        vertical-align: middle;\n",
       "    }\n",
       "\n",
       "    .dataframe tbody tr th {\n",
       "        vertical-align: top;\n",
       "    }\n",
       "\n",
       "    .dataframe thead th {\n",
       "        text-align: right;\n",
       "    }\n",
       "</style>\n",
       "<table border=\"1\" class=\"dataframe\">\n",
       "  <thead>\n",
       "    <tr style=\"text-align: right;\">\n",
       "      <th></th>\n",
       "      <th>Precipitation</th>\n",
       "    </tr>\n",
       "  </thead>\n",
       "  <tbody>\n",
       "    <tr>\n",
       "      <th>count</th>\n",
       "      <td>2015.000000</td>\n",
       "    </tr>\n",
       "    <tr>\n",
       "      <th>mean</th>\n",
       "      <td>0.176462</td>\n",
       "    </tr>\n",
       "    <tr>\n",
       "      <th>std</th>\n",
       "      <td>0.460288</td>\n",
       "    </tr>\n",
       "    <tr>\n",
       "      <th>min</th>\n",
       "      <td>0.000000</td>\n",
       "    </tr>\n",
       "    <tr>\n",
       "      <th>25%</th>\n",
       "      <td>0.000000</td>\n",
       "    </tr>\n",
       "    <tr>\n",
       "      <th>50%</th>\n",
       "      <td>0.020000</td>\n",
       "    </tr>\n",
       "    <tr>\n",
       "      <th>75%</th>\n",
       "      <td>0.130000</td>\n",
       "    </tr>\n",
       "    <tr>\n",
       "      <th>max</th>\n",
       "      <td>6.700000</td>\n",
       "    </tr>\n",
       "  </tbody>\n",
       "</table>\n",
       "</div>"
      ],
      "text/plain": [
       "       Precipitation\n",
       "count    2015.000000\n",
       "mean        0.176462\n",
       "std         0.460288\n",
       "min         0.000000\n",
       "25%         0.000000\n",
       "50%         0.020000\n",
       "75%         0.130000\n",
       "max         6.700000"
      ]
     },
     "execution_count": 35,
     "metadata": {},
     "output_type": "execute_result"
    }
   ],
   "source": [
    "# Use Pandas to calculate the summary statistics for the precipitation data\n",
    "summary_statistics = last_12_months_df['prcp'].describe()\n",
    "summary_statistics_df = pd.DataFrame(summary_statistics)\n",
    "summary_statistics_df = summary_statistics_df.rename(columns={'prcp': 'Precipitation'})\n",
    "summary_statistics_df\n",
    "\n",
    "# MY TOTAL COUNT IS DIFFERENT THAN THE EXAMPLE BY 6. UNKNOWN WHY. NOT RELATED TO DROPPING\n",
    "# THE NONES"
   ]
  },
  {
   "cell_type": "markdown",
   "metadata": {},
   "source": [
    "# Exploratory Station Analysis"
   ]
  },
  {
   "cell_type": "code",
   "execution_count": 36,
   "metadata": {},
   "outputs": [
    {
     "name": "stdout",
     "output_type": "stream",
     "text": [
      "Number of unique stations: 9\n"
     ]
    }
   ],
   "source": [
    "# Design a query to calculate the total number of stations in the dataset\n",
    "\n",
    "unique_station_count = session.query(func.count(func.distinct(Station.station))).scalar()\n",
    "print(\"Number of Unique Stations:\", unique_station_count)\n"
   ]
  },
  {
   "cell_type": "code",
   "execution_count": 50,
   "metadata": {},
   "outputs": [
    {
     "name": "stdout",
     "output_type": "stream",
     "text": [
      "USC00519281: 2772\n",
      "USC00519397: 2724\n",
      "USC00513117: 2709\n",
      "USC00519523: 2669\n",
      "USC00516128: 2612\n",
      "USC00514830: 2202\n",
      "USC00511918: 1979\n",
      "USC00517948: 1372\n",
      "USC00518838: 511\n",
      "\n",
      "Station USC00519281 has the most observations (2772) associated with it.\n"
     ]
    }
   ],
   "source": [
    "# Design a query to find the most active stations (i.e. which stations have the most rows?)\n",
    "# List the stations and their counts in descending order.\n",
    "\n",
    "# Query to count the number of rows associated with each station\n",
    "station_observation_count = session.query(Station.station, func.count()).join(Measurement, Station.station == Measurement.station).group_by(Station.station).order_by(func.count().desc()).all()\n",
    "\n",
    "# Print the station and the number of rows associated with each station\n",
    "for station, row_count in station_observation_count:\n",
    "    print(station + \":\", row_count)\n",
    "print()\n",
    "most_active_station, most_observations = station_observation_count[0]\n",
    "print(f\"Station {most_active_station} has the most observations ({most_observations}) associated with it.\")\n"
   ]
  },
  {
   "cell_type": "code",
   "execution_count": 51,
   "metadata": {},
   "outputs": [
    {
     "name": "stdout",
     "output_type": "stream",
     "text": [
      "Lowest Temperature: 54.0\n",
      "Highest Temperature: 85.0\n",
      "Average Temperature: 71.66378066378067\n"
     ]
    }
   ],
   "source": [
    "# Using the most active station id from the previous query, calculate the lowest, highest, and average temperature.\n",
    "most_active_station_id = most_active_station\n",
    "\n",
    "# Calculate the lowest, highest, and average temperature for the most active station\n",
    "temperature_stats = session.query(func.min(Measurement.tobs), func.max(Measurement.tobs), func.avg(Measurement.tobs)).filter(Measurement.station == most_active_station_id).all()\n",
    "\n",
    "# Print the temperature statistics\n",
    "print(f\"Lowest Temperature: {temperature_stats[0][0]}\")\n",
    "print(f\"Highest Temperature: {temperature_stats[0][1]}\")\n",
    "print(f\"Average Temperature: {temperature_stats[0][2]}\")\n"
   ]
  },
  {
   "cell_type": "code",
   "execution_count": 53,
   "metadata": {},
   "outputs": [
    {
     "data": {
      "image/png": "[encoded data removed]",
      "text/plain": [
       "<Figure size 800x600 with 1 Axes>"
      ]
     },
     "metadata": {},
     "output_type": "display_data"
    }
   ],
   "source": [
    "# Using the most active station id\n",
    "# Query the last 12 months of temperature observation data for this station and plot the results as a histogram\n",
    "\n",
    "# Query the last 12 months of temperature observation data for the most active station\n",
    "temperature_data = session.query(Measurement.tobs).filter(Measurement.station == most_active_station_id, Measurement.date >= one_year_lookback).all()\n",
    "\n",
    "# Extract the temperature values from the result\n",
    "temperatures = [temp[0] for temp in temperature_data]\n",
    "\n",
    "# Plot the results as a histogram\n",
    "plt.figure(figsize=(8, 6))\n",
    "plt.hist(temperatures, bins=12, color='skyblue', edgecolor='black', alpha=0.7)\n",
    "plt.xlabel('Temperature (°F)')\n",
    "plt.ylabel('Frequency')\n",
    "plt.title('Temperature Observation Data (Last 12 Months)')\n",
    "plt.grid(True)\n",
    "plt.tight_layout()\n",
    "plt.show()\n"
   ]
  },
  {
   "cell_type": "markdown",
   "metadata": {},
   "source": [
    "# Close Session"
   ]
  },
  {
   "cell_type": "code",
   "execution_count": 54,
   "metadata": {},
   "outputs": [],
   "source": [
    "# Close Session\n",
    "session.close()"
   ]
  },
  {
   "cell_type": "code",
   "execution_count": null,
   "metadata": {},
   "outputs": [],
   "source": []
  }
 ],
 "metadata": {
  "anaconda-cloud": {},
  "kernel_info": {
   "name": "python3"
  },
  "kernelspec": {
   "display_name": "Python 3 (ipykernel)",
   "language": "python",
   "name": "python3"
  },
  "language_info": {
   "codemirror_mode": {
    "name": "ipython",
    "version": 3
   },
   "file_extension": ".py",
   "mimetype": "text/x-python",
   "name": "python",
   "nbconvert_exporter": "python",
   "pygments_lexer": "ipython3",
   "version": "3.12.3"
  },
  "nteract": {
   "version": "0.12.3"
  },
  "varInspector": {
   "cols": {
    "lenName": 16,
    "lenType": 16,
    "lenVar": 40
   },
   "kernels_config": {
    "python": {
     "delete_cmd_postfix": "",
     "delete_cmd_prefix": "del ",
     "library": "var_list.py",
     "varRefreshCmd": "print(var_dic_list())"
    },
    "r": {
     "delete_cmd_postfix": ") ",
     "delete_cmd_prefix": "rm(",
     "library": "var_list.r",
     "varRefreshCmd": "cat(var_dic_list()) "
    }
   },
   "types_to_exclude": [
    "module",
    "function",
    "builtin_function_or_method",
    "instance",
    "_Feature"
   ],
   "window_display": false
  }
 },
 "nbformat": 4,
 "nbformat_minor": 4
}
